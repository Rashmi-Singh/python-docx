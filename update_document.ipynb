{
 "cells": [
  {
   "cell_type": "code",
   "execution_count": 73,
   "metadata": {},
   "outputs": [
    {
     "name": "stdout",
     "output_type": "stream",
     "text": [
      "List of paragraph objects in the document:\n",
      "[<docx.text.paragraph.Paragraph object at 0x000001E361753388>, <docx.text.paragraph.Paragraph object at 0x000001E361753348>, <docx.text.paragraph.Paragraph object at 0x000001E361753608>, <docx.text.paragraph.Paragraph object at 0x000001E3617536C8>, <docx.text.paragraph.Paragraph object at 0x000001E361753888>]\n",
      "\n",
      "List of runs objects in 1st paragraph:\n",
      "[<docx.text.run.Run object at 0x000001E361753888>]\n",
      "\n",
      "Each Run in 1st paragraph:-\n",
      "Heading for the document\n",
      "\n",
      "Text in the 1st paragraph:\n",
      "Heading for the document\n",
      "Runs are printed here - \n",
      " hey there, bold here \n",
      "\n",
      "saving to demo1.docx..\n"
     ]
    }
   ],
   "source": [
    "# import the Document class from the docx(python-docx) module \n",
    "from docx import Document \n",
    "\n",
    "# create an instance of a word document we want to open \n",
    "doc = Document('demo.docx')\n",
    "\n",
    "print('List of paragraph objects in the document:') \n",
    "print(doc.paragraphs)\n",
    "\n",
    "# print the list of the runs in a specified paragraph \n",
    "print('\\nList of runs objects in 1st paragraph:') \n",
    "print(doc.paragraphs[0].runs)\n",
    "\n",
    "print('\\nEach Run in 1st paragraph:-')\n",
    "for index, run in enumerate(doc.paragraphs[0].runs):\n",
    "    print(run.text)\n",
    "\n",
    "# print the text in a paragraph \n",
    "print('\\nText in the 1st paragraph:') \n",
    "print(doc.paragraphs[0].text) \n",
    "\n",
    "searchText = 'hey there, bold here'\n",
    "performSave = False\n",
    "    \n",
    "for index, para in enumerate(doc.paragraphs):\n",
    "\n",
    "    if searchText in para.text:\n",
    "        print('Runs are printed here - \\n', para.runs[index].text, '\\n')\n",
    "        performSave = True\n",
    "        para.runs[index].text = para.runs[index].text.replace(searchText, 'it\\'s bold text here!') # retains applied style\n",
    "#         para.text = para.text.replace(searchText, 'it\\'s bold text here!')\n",
    "\n",
    "if performSave:\n",
    "    print('saving to demo1.docx..')\n",
    "    doc.save('demo1.docx')"
   ]
  },
  {
   "cell_type": "code",
   "execution_count": 72,
   "metadata": {},
   "outputs": [
    {
     "name": "stdout",
     "output_type": "stream",
     "text": [
      "List of Tables:->>>\n",
      "[<docx.table.Table object at 0x000001E36210DF48>]\n",
      "\n",
      "Table no 1:    <docx.table.Table object at 0x000001E36210D1C8>\n",
      "\n",
      "Column-wise data -\n",
      "Column: Sl No\n",
      "1\n",
      "2\n",
      "3\n",
      "\n",
      "\n",
      "Column: Name\n",
      "Reeta\n",
      "Wasim\n",
      "John\n",
      "\n",
      "\n",
      "Column: Age\n",
      "29\n",
      "35\n",
      "67\n",
      "\n",
      "\n",
      "updating demo1.docx..\n"
     ]
    }
   ],
   "source": [
    "from docx import Document \n",
    "\n",
    "# create an instance of a word document we want to open \n",
    "doc1 = Document('demo1.docx')\n",
    "\n",
    "print('List of Tables:->>>')\n",
    "print(doc1.tables)\n",
    "searchName = 'Wasim'\n",
    "replaceName = 'Waseem'\n",
    "performSave = False\n",
    "\n",
    "for index,table in enumerate(doc1.tables):\n",
    "    print('\\nTable no {}:    {}\\n'.format(index+1, table))\n",
    "    print('Column-wise data -')\n",
    "    for colIndex, column in enumerate(table.columns):\n",
    "        for cellIndex, cell in enumerate(column.cells):\n",
    "            if (cellIndex > 0):\n",
    "                print(cell.text)\n",
    "                if searchName in cell.text:\n",
    "                    cell.text = cell.text.replace(searchName, replaceName)\n",
    "                    performSave = True\n",
    "            else:\n",
    "                print('Column: {}'.format(cell.text))\n",
    "        print('\\n')\n",
    "        \n",
    "if performSave:\n",
    "    print('updating demo1.docx..')\n",
    "    doc1.save('demo1.docx')"
   ]
  },
  {
   "cell_type": "code",
   "execution_count": null,
   "metadata": {},
   "outputs": [],
   "source": []
  }
 ],
 "metadata": {
  "kernelspec": {
   "display_name": "Python 3",
   "language": "python",
   "name": "python3"
  },
  "language_info": {
   "codemirror_mode": {
    "name": "ipython",
    "version": 3
   },
   "file_extension": ".py",
   "mimetype": "text/x-python",
   "name": "python",
   "nbconvert_exporter": "python",
   "pygments_lexer": "ipython3",
   "version": "3.7.4"
  }
 },
 "nbformat": 4,
 "nbformat_minor": 2
}
